{
 "cells": [
  {
   "cell_type": "code",
   "execution_count": 1,
   "id": "db1a635a-4b64-4cc8-bdeb-1cde6ed72893",
   "metadata": {},
   "outputs": [],
   "source": [
    "# Importing Libraries"
   ]
  },
  {
   "cell_type": "code",
   "execution_count": 2,
   "id": "1a2c9b0d-4b70-40b6-bcfe-8cc0657f9469",
   "metadata": {},
   "outputs": [],
   "source": [
    "import pandas as pd\n",
    "import matplotlib.pyplot as plt \n",
    "import seaborn as sns\n",
    "import numpy as np"
   ]
  },
  {
   "cell_type": "code",
   "execution_count": 3,
   "id": "6b24b710-04b8-4cdc-9b7a-ba46cfb9bc9c",
   "metadata": {},
   "outputs": [],
   "source": [
    "# Reading Dataset"
   ]
  },
  {
   "cell_type": "code",
   "execution_count": 4,
   "id": "72da2c6d-122e-41bc-af10-24e65a9f596e",
   "metadata": {},
   "outputs": [],
   "source": [
    "df = pd.read_csv('housing.csv')"
   ]
  },
  {
   "cell_type": "code",
   "execution_count": 5,
   "id": "cecdf166-4d4a-422b-8401-25b18b3b5b2a",
   "metadata": {},
   "outputs": [
    {
     "data": {
      "text/html": [
       "<div>\n",
       "<style scoped>\n",
       "    .dataframe tbody tr th:only-of-type {\n",
       "        vertical-align: middle;\n",
       "    }\n",
       "\n",
       "    .dataframe tbody tr th {\n",
       "        vertical-align: top;\n",
       "    }\n",
       "\n",
       "    .dataframe thead th {\n",
       "        text-align: right;\n",
       "    }\n",
       "</style>\n",
       "<table border=\"1\" class=\"dataframe\">\n",
       "  <thead>\n",
       "    <tr style=\"text-align: right;\">\n",
       "      <th></th>\n",
       "      <th>longitude</th>\n",
       "      <th>latitude</th>\n",
       "      <th>housing_median_age</th>\n",
       "      <th>total_rooms</th>\n",
       "      <th>total_bedrooms</th>\n",
       "      <th>population</th>\n",
       "      <th>households</th>\n",
       "      <th>median_income</th>\n",
       "      <th>median_house_value</th>\n",
       "      <th>ocean_proximity</th>\n",
       "    </tr>\n",
       "  </thead>\n",
       "  <tbody>\n",
       "    <tr>\n",
       "      <th>0</th>\n",
       "      <td>-122.23</td>\n",
       "      <td>37.88</td>\n",
       "      <td>41.0</td>\n",
       "      <td>880.0</td>\n",
       "      <td>129.0</td>\n",
       "      <td>322.0</td>\n",
       "      <td>126.0</td>\n",
       "      <td>8.3252</td>\n",
       "      <td>452600.0</td>\n",
       "      <td>NEAR BAY</td>\n",
       "    </tr>\n",
       "    <tr>\n",
       "      <th>1</th>\n",
       "      <td>-122.22</td>\n",
       "      <td>37.86</td>\n",
       "      <td>21.0</td>\n",
       "      <td>7099.0</td>\n",
       "      <td>1106.0</td>\n",
       "      <td>2401.0</td>\n",
       "      <td>1138.0</td>\n",
       "      <td>8.3014</td>\n",
       "      <td>358500.0</td>\n",
       "      <td>NEAR BAY</td>\n",
       "    </tr>\n",
       "    <tr>\n",
       "      <th>2</th>\n",
       "      <td>-122.24</td>\n",
       "      <td>37.85</td>\n",
       "      <td>52.0</td>\n",
       "      <td>1467.0</td>\n",
       "      <td>190.0</td>\n",
       "      <td>496.0</td>\n",
       "      <td>177.0</td>\n",
       "      <td>7.2574</td>\n",
       "      <td>352100.0</td>\n",
       "      <td>NEAR BAY</td>\n",
       "    </tr>\n",
       "    <tr>\n",
       "      <th>3</th>\n",
       "      <td>-122.25</td>\n",
       "      <td>37.85</td>\n",
       "      <td>52.0</td>\n",
       "      <td>1274.0</td>\n",
       "      <td>235.0</td>\n",
       "      <td>558.0</td>\n",
       "      <td>219.0</td>\n",
       "      <td>5.6431</td>\n",
       "      <td>341300.0</td>\n",
       "      <td>NEAR BAY</td>\n",
       "    </tr>\n",
       "    <tr>\n",
       "      <th>4</th>\n",
       "      <td>-122.25</td>\n",
       "      <td>37.85</td>\n",
       "      <td>52.0</td>\n",
       "      <td>1627.0</td>\n",
       "      <td>280.0</td>\n",
       "      <td>565.0</td>\n",
       "      <td>259.0</td>\n",
       "      <td>3.8462</td>\n",
       "      <td>342200.0</td>\n",
       "      <td>NEAR BAY</td>\n",
       "    </tr>\n",
       "  </tbody>\n",
       "</table>\n",
       "</div>"
      ],
      "text/plain": [
       "   longitude  latitude  housing_median_age  total_rooms  total_bedrooms  \\\n",
       "0    -122.23     37.88                41.0        880.0           129.0   \n",
       "1    -122.22     37.86                21.0       7099.0          1106.0   \n",
       "2    -122.24     37.85                52.0       1467.0           190.0   \n",
       "3    -122.25     37.85                52.0       1274.0           235.0   \n",
       "4    -122.25     37.85                52.0       1627.0           280.0   \n",
       "\n",
       "   population  households  median_income  median_house_value ocean_proximity  \n",
       "0       322.0       126.0         8.3252            452600.0        NEAR BAY  \n",
       "1      2401.0      1138.0         8.3014            358500.0        NEAR BAY  \n",
       "2       496.0       177.0         7.2574            352100.0        NEAR BAY  \n",
       "3       558.0       219.0         5.6431            341300.0        NEAR BAY  \n",
       "4       565.0       259.0         3.8462            342200.0        NEAR BAY  "
      ]
     },
     "execution_count": 5,
     "metadata": {},
     "output_type": "execute_result"
    }
   ],
   "source": [
    "df.head()"
   ]
  },
  {
   "cell_type": "code",
   "execution_count": 6,
   "id": "b3331eb4-1e10-42e9-81d9-68fdcbd56b32",
   "metadata": {},
   "outputs": [
    {
     "data": {
      "text/html": [
       "<div>\n",
       "<style scoped>\n",
       "    .dataframe tbody tr th:only-of-type {\n",
       "        vertical-align: middle;\n",
       "    }\n",
       "\n",
       "    .dataframe tbody tr th {\n",
       "        vertical-align: top;\n",
       "    }\n",
       "\n",
       "    .dataframe thead th {\n",
       "        text-align: right;\n",
       "    }\n",
       "</style>\n",
       "<table border=\"1\" class=\"dataframe\">\n",
       "  <thead>\n",
       "    <tr style=\"text-align: right;\">\n",
       "      <th></th>\n",
       "      <th>longitude</th>\n",
       "      <th>latitude</th>\n",
       "      <th>housing_median_age</th>\n",
       "      <th>total_rooms</th>\n",
       "      <th>total_bedrooms</th>\n",
       "      <th>population</th>\n",
       "      <th>households</th>\n",
       "      <th>median_income</th>\n",
       "      <th>median_house_value</th>\n",
       "      <th>ocean_proximity</th>\n",
       "    </tr>\n",
       "  </thead>\n",
       "  <tbody>\n",
       "    <tr>\n",
       "      <th>20635</th>\n",
       "      <td>-121.09</td>\n",
       "      <td>39.48</td>\n",
       "      <td>25.0</td>\n",
       "      <td>1665.0</td>\n",
       "      <td>374.0</td>\n",
       "      <td>845.0</td>\n",
       "      <td>330.0</td>\n",
       "      <td>1.5603</td>\n",
       "      <td>78100.0</td>\n",
       "      <td>INLAND</td>\n",
       "    </tr>\n",
       "    <tr>\n",
       "      <th>20636</th>\n",
       "      <td>-121.21</td>\n",
       "      <td>39.49</td>\n",
       "      <td>18.0</td>\n",
       "      <td>697.0</td>\n",
       "      <td>150.0</td>\n",
       "      <td>356.0</td>\n",
       "      <td>114.0</td>\n",
       "      <td>2.5568</td>\n",
       "      <td>77100.0</td>\n",
       "      <td>INLAND</td>\n",
       "    </tr>\n",
       "    <tr>\n",
       "      <th>20637</th>\n",
       "      <td>-121.22</td>\n",
       "      <td>39.43</td>\n",
       "      <td>17.0</td>\n",
       "      <td>2254.0</td>\n",
       "      <td>485.0</td>\n",
       "      <td>1007.0</td>\n",
       "      <td>433.0</td>\n",
       "      <td>1.7000</td>\n",
       "      <td>92300.0</td>\n",
       "      <td>INLAND</td>\n",
       "    </tr>\n",
       "    <tr>\n",
       "      <th>20638</th>\n",
       "      <td>-121.32</td>\n",
       "      <td>39.43</td>\n",
       "      <td>18.0</td>\n",
       "      <td>1860.0</td>\n",
       "      <td>409.0</td>\n",
       "      <td>741.0</td>\n",
       "      <td>349.0</td>\n",
       "      <td>1.8672</td>\n",
       "      <td>84700.0</td>\n",
       "      <td>INLAND</td>\n",
       "    </tr>\n",
       "    <tr>\n",
       "      <th>20639</th>\n",
       "      <td>-121.24</td>\n",
       "      <td>39.37</td>\n",
       "      <td>16.0</td>\n",
       "      <td>2785.0</td>\n",
       "      <td>616.0</td>\n",
       "      <td>1387.0</td>\n",
       "      <td>530.0</td>\n",
       "      <td>2.3886</td>\n",
       "      <td>89400.0</td>\n",
       "      <td>INLAND</td>\n",
       "    </tr>\n",
       "  </tbody>\n",
       "</table>\n",
       "</div>"
      ],
      "text/plain": [
       "       longitude  latitude  housing_median_age  total_rooms  total_bedrooms  \\\n",
       "20635    -121.09     39.48                25.0       1665.0           374.0   \n",
       "20636    -121.21     39.49                18.0        697.0           150.0   \n",
       "20637    -121.22     39.43                17.0       2254.0           485.0   \n",
       "20638    -121.32     39.43                18.0       1860.0           409.0   \n",
       "20639    -121.24     39.37                16.0       2785.0           616.0   \n",
       "\n",
       "       population  households  median_income  median_house_value  \\\n",
       "20635       845.0       330.0         1.5603             78100.0   \n",
       "20636       356.0       114.0         2.5568             77100.0   \n",
       "20637      1007.0       433.0         1.7000             92300.0   \n",
       "20638       741.0       349.0         1.8672             84700.0   \n",
       "20639      1387.0       530.0         2.3886             89400.0   \n",
       "\n",
       "      ocean_proximity  \n",
       "20635          INLAND  \n",
       "20636          INLAND  \n",
       "20637          INLAND  \n",
       "20638          INLAND  \n",
       "20639          INLAND  "
      ]
     },
     "execution_count": 6,
     "metadata": {},
     "output_type": "execute_result"
    }
   ],
   "source": [
    "df.tail()"
   ]
  },
  {
   "cell_type": "code",
   "execution_count": 7,
   "id": "128d37a3-9164-44ea-bb34-13bac1608f9f",
   "metadata": {},
   "outputs": [
    {
     "data": {
      "text/plain": [
       "(20640, 10)"
      ]
     },
     "execution_count": 7,
     "metadata": {},
     "output_type": "execute_result"
    }
   ],
   "source": [
    "df.shape"
   ]
  },
  {
   "cell_type": "code",
   "execution_count": 8,
   "id": "4d3d0f94-3bbe-4c96-afa8-ab750ab9b9ba",
   "metadata": {},
   "outputs": [
    {
     "name": "stdout",
     "output_type": "stream",
     "text": [
      "<class 'pandas.core.frame.DataFrame'>\n",
      "RangeIndex: 20640 entries, 0 to 20639\n",
      "Data columns (total 10 columns):\n",
      " #   Column              Non-Null Count  Dtype  \n",
      "---  ------              --------------  -----  \n",
      " 0   longitude           20640 non-null  float64\n",
      " 1   latitude            20640 non-null  float64\n",
      " 2   housing_median_age  20640 non-null  float64\n",
      " 3   total_rooms         20640 non-null  float64\n",
      " 4   total_bedrooms      20433 non-null  float64\n",
      " 5   population          20640 non-null  float64\n",
      " 6   households          20640 non-null  float64\n",
      " 7   median_income       20640 non-null  float64\n",
      " 8   median_house_value  20640 non-null  float64\n",
      " 9   ocean_proximity     20640 non-null  object \n",
      "dtypes: float64(9), object(1)\n",
      "memory usage: 1.6+ MB\n"
     ]
    }
   ],
   "source": [
    "df.info()"
   ]
  },
  {
   "cell_type": "code",
   "execution_count": 9,
   "id": "4ec08e2d-2d7b-4aae-b91b-7f15b7b7b98e",
   "metadata": {},
   "outputs": [
    {
     "data": {
      "text/html": [
       "<div>\n",
       "<style scoped>\n",
       "    .dataframe tbody tr th:only-of-type {\n",
       "        vertical-align: middle;\n",
       "    }\n",
       "\n",
       "    .dataframe tbody tr th {\n",
       "        vertical-align: top;\n",
       "    }\n",
       "\n",
       "    .dataframe thead th {\n",
       "        text-align: right;\n",
       "    }\n",
       "</style>\n",
       "<table border=\"1\" class=\"dataframe\">\n",
       "  <thead>\n",
       "    <tr style=\"text-align: right;\">\n",
       "      <th></th>\n",
       "      <th>longitude</th>\n",
       "      <th>latitude</th>\n",
       "      <th>housing_median_age</th>\n",
       "      <th>total_rooms</th>\n",
       "      <th>total_bedrooms</th>\n",
       "      <th>population</th>\n",
       "      <th>households</th>\n",
       "      <th>median_income</th>\n",
       "      <th>median_house_value</th>\n",
       "    </tr>\n",
       "  </thead>\n",
       "  <tbody>\n",
       "    <tr>\n",
       "      <th>count</th>\n",
       "      <td>20640.000000</td>\n",
       "      <td>20640.000000</td>\n",
       "      <td>20640.000000</td>\n",
       "      <td>20640.000000</td>\n",
       "      <td>20433.000000</td>\n",
       "      <td>20640.000000</td>\n",
       "      <td>20640.000000</td>\n",
       "      <td>20640.000000</td>\n",
       "      <td>20640.000000</td>\n",
       "    </tr>\n",
       "    <tr>\n",
       "      <th>mean</th>\n",
       "      <td>-119.569704</td>\n",
       "      <td>35.631861</td>\n",
       "      <td>28.639486</td>\n",
       "      <td>2635.763081</td>\n",
       "      <td>537.870553</td>\n",
       "      <td>1425.476744</td>\n",
       "      <td>499.539680</td>\n",
       "      <td>3.870671</td>\n",
       "      <td>206855.816909</td>\n",
       "    </tr>\n",
       "    <tr>\n",
       "      <th>std</th>\n",
       "      <td>2.003532</td>\n",
       "      <td>2.135952</td>\n",
       "      <td>12.585558</td>\n",
       "      <td>2181.615252</td>\n",
       "      <td>421.385070</td>\n",
       "      <td>1132.462122</td>\n",
       "      <td>382.329753</td>\n",
       "      <td>1.899822</td>\n",
       "      <td>115395.615874</td>\n",
       "    </tr>\n",
       "    <tr>\n",
       "      <th>min</th>\n",
       "      <td>-124.350000</td>\n",
       "      <td>32.540000</td>\n",
       "      <td>1.000000</td>\n",
       "      <td>2.000000</td>\n",
       "      <td>1.000000</td>\n",
       "      <td>3.000000</td>\n",
       "      <td>1.000000</td>\n",
       "      <td>0.499900</td>\n",
       "      <td>14999.000000</td>\n",
       "    </tr>\n",
       "    <tr>\n",
       "      <th>25%</th>\n",
       "      <td>-121.800000</td>\n",
       "      <td>33.930000</td>\n",
       "      <td>18.000000</td>\n",
       "      <td>1447.750000</td>\n",
       "      <td>296.000000</td>\n",
       "      <td>787.000000</td>\n",
       "      <td>280.000000</td>\n",
       "      <td>2.563400</td>\n",
       "      <td>119600.000000</td>\n",
       "    </tr>\n",
       "    <tr>\n",
       "      <th>50%</th>\n",
       "      <td>-118.490000</td>\n",
       "      <td>34.260000</td>\n",
       "      <td>29.000000</td>\n",
       "      <td>2127.000000</td>\n",
       "      <td>435.000000</td>\n",
       "      <td>1166.000000</td>\n",
       "      <td>409.000000</td>\n",
       "      <td>3.534800</td>\n",
       "      <td>179700.000000</td>\n",
       "    </tr>\n",
       "    <tr>\n",
       "      <th>75%</th>\n",
       "      <td>-118.010000</td>\n",
       "      <td>37.710000</td>\n",
       "      <td>37.000000</td>\n",
       "      <td>3148.000000</td>\n",
       "      <td>647.000000</td>\n",
       "      <td>1725.000000</td>\n",
       "      <td>605.000000</td>\n",
       "      <td>4.743250</td>\n",
       "      <td>264725.000000</td>\n",
       "    </tr>\n",
       "    <tr>\n",
       "      <th>max</th>\n",
       "      <td>-114.310000</td>\n",
       "      <td>41.950000</td>\n",
       "      <td>52.000000</td>\n",
       "      <td>39320.000000</td>\n",
       "      <td>6445.000000</td>\n",
       "      <td>35682.000000</td>\n",
       "      <td>6082.000000</td>\n",
       "      <td>15.000100</td>\n",
       "      <td>500001.000000</td>\n",
       "    </tr>\n",
       "  </tbody>\n",
       "</table>\n",
       "</div>"
      ],
      "text/plain": [
       "          longitude      latitude  housing_median_age   total_rooms  \\\n",
       "count  20640.000000  20640.000000        20640.000000  20640.000000   \n",
       "mean    -119.569704     35.631861           28.639486   2635.763081   \n",
       "std        2.003532      2.135952           12.585558   2181.615252   \n",
       "min     -124.350000     32.540000            1.000000      2.000000   \n",
       "25%     -121.800000     33.930000           18.000000   1447.750000   \n",
       "50%     -118.490000     34.260000           29.000000   2127.000000   \n",
       "75%     -118.010000     37.710000           37.000000   3148.000000   \n",
       "max     -114.310000     41.950000           52.000000  39320.000000   \n",
       "\n",
       "       total_bedrooms    population    households  median_income  \\\n",
       "count    20433.000000  20640.000000  20640.000000   20640.000000   \n",
       "mean       537.870553   1425.476744    499.539680       3.870671   \n",
       "std        421.385070   1132.462122    382.329753       1.899822   \n",
       "min          1.000000      3.000000      1.000000       0.499900   \n",
       "25%        296.000000    787.000000    280.000000       2.563400   \n",
       "50%        435.000000   1166.000000    409.000000       3.534800   \n",
       "75%        647.000000   1725.000000    605.000000       4.743250   \n",
       "max       6445.000000  35682.000000   6082.000000      15.000100   \n",
       "\n",
       "       median_house_value  \n",
       "count        20640.000000  \n",
       "mean        206855.816909  \n",
       "std         115395.615874  \n",
       "min          14999.000000  \n",
       "25%         119600.000000  \n",
       "50%         179700.000000  \n",
       "75%         264725.000000  \n",
       "max         500001.000000  "
      ]
     },
     "execution_count": 9,
     "metadata": {},
     "output_type": "execute_result"
    }
   ],
   "source": [
    "df.describe()"
   ]
  },
  {
   "cell_type": "code",
   "execution_count": 10,
   "id": "0c5cd1cb-5e96-4392-89ca-60464c32d8d5",
   "metadata": {},
   "outputs": [
    {
     "data": {
      "text/plain": [
       "<AxesSubplot:>"
      ]
     },
     "execution_count": 10,
     "metadata": {},
     "output_type": "execute_result"
    },
    {
     "data": {
      "image/png": "[encoded data removed]",
      "text/plain": [
       "<Figure size 1080x432 with 2 Axes>"
      ]
     },
     "metadata": {
      "needs_background": "light"
     },
     "output_type": "display_data"
    }
   ],
   "source": [
    "plt.figure(figsize=(15,6))\n",
    "sns.heatmap(df.corr(),annot=True)"
   ]
  },
  {
   "cell_type": "code",
   "execution_count": 11,
   "id": "92fd3a50-5b7d-4caa-8852-8eded71eb11a",
   "metadata": {},
   "outputs": [],
   "source": [
    "df.drop(['total_bedrooms','households','population'],axis=1,inplace=True)"
   ]
  },
  {
   "cell_type": "code",
   "execution_count": 12,
   "id": "7c4bc789-d815-4fb2-bd92-acfd81045c21",
   "metadata": {},
   "outputs": [
    {
     "data": {
      "text/plain": [
       "<AxesSubplot:>"
      ]
     },
     "execution_count": 12,
     "metadata": {},
     "output_type": "execute_result"
    },
    {
     "data": {
      "image/png": "[encoded data removed]",
      "text/plain": [
       "<Figure size 1080x504 with 2 Axes>"
      ]
     },
     "metadata": {
      "needs_background": "light"
     },
     "output_type": "display_data"
    }
   ],
   "source": [
    "plt.figure(figsize=(15,7))\n",
    "sns.heatmap(df.corr(),annot=True)"
   ]
  },
  {
   "cell_type": "code",
   "execution_count": 13,
   "id": "5254f5bd-3145-4cab-8aab-383be5428a3a",
   "metadata": {},
   "outputs": [
    {
     "data": {
      "text/plain": [
       "<1H OCEAN     44.263566\n",
       "INLAND        31.739341\n",
       "NEAR OCEAN    12.877907\n",
       "NEAR BAY      11.094961\n",
       "ISLAND         0.024225\n",
       "Name: ocean_proximity, dtype: float64"
      ]
     },
     "execution_count": 13,
     "metadata": {},
     "output_type": "execute_result"
    }
   ],
   "source": [
    "df['ocean_proximity'].value_counts(normalize=True)*100"
   ]
  },
  {
   "cell_type": "code",
   "execution_count": 14,
   "id": "c4d07c0c-9641-477f-9be4-65411a8829ab",
   "metadata": {},
   "outputs": [],
   "source": [
    "df['ocean_proximity'].replace(to_replace = {'ISLAND':'NEAR OCEAN'}, inplace= True)"
   ]
  },
  {
   "cell_type": "code",
   "execution_count": 15,
   "id": "8b6f39bc-f434-4204-b194-017de4501e9d",
   "metadata": {},
   "outputs": [
    {
     "data": {
      "text/plain": [
       "<1H OCEAN     44.263566\n",
       "INLAND        31.739341\n",
       "NEAR OCEAN    12.902132\n",
       "NEAR BAY      11.094961\n",
       "Name: ocean_proximity, dtype: float64"
      ]
     },
     "execution_count": 15,
     "metadata": {},
     "output_type": "execute_result"
    }
   ],
   "source": [
    "df['ocean_proximity'].value_counts(normalize=True)*100"
   ]
  },
  {
   "cell_type": "code",
   "execution_count": 16,
   "id": "7f755f91-8c30-4dbc-ba8c-68b6480939a5",
   "metadata": {},
   "outputs": [
    {
     "data": {
      "text/plain": [
       "longitude             0.0\n",
       "latitude              0.0\n",
       "housing_median_age    0.0\n",
       "total_rooms           0.0\n",
       "median_income         0.0\n",
       "median_house_value    0.0\n",
       "ocean_proximity       0.0\n",
       "dtype: float64"
      ]
     },
     "execution_count": 16,
     "metadata": {},
     "output_type": "execute_result"
    }
   ],
   "source": [
    "df.isnull().sum()/len(df)*100"
   ]
  },
  {
   "cell_type": "code",
   "execution_count": 17,
   "id": "9b10cfb4-a7aa-4b5e-a0fc-ad02b1e8c91b",
   "metadata": {},
   "outputs": [],
   "source": [
    "df.dropna(inplace=True)"
   ]
  },
  {
   "cell_type": "code",
   "execution_count": 18,
   "id": "440a7328-369c-4e88-87e6-5ebf2d31a6f7",
   "metadata": {},
   "outputs": [
    {
     "data": {
      "text/plain": [
       "longitude             0\n",
       "latitude              0\n",
       "housing_median_age    0\n",
       "total_rooms           0\n",
       "median_income         0\n",
       "median_house_value    0\n",
       "ocean_proximity       0\n",
       "dtype: int64"
      ]
     },
     "execution_count": 18,
     "metadata": {},
     "output_type": "execute_result"
    }
   ],
   "source": [
    "df.isnull().sum()"
   ]
  },
  {
   "cell_type": "code",
   "execution_count": 19,
   "id": "356ed8b7-0da9-4cc1-b86f-2bbc8958382d",
   "metadata": {},
   "outputs": [],
   "source": [
    "df = pd.get_dummies(df, drop_first = True)"
   ]
  },
  {
   "cell_type": "code",
   "execution_count": 20,
   "id": "4040461a-28e6-4685-8113-c377d36d5ca4",
   "metadata": {},
   "outputs": [],
   "source": [
    "x = df.drop('median_house_value',axis=1)\n",
    "y = df['median_house_value']"
   ]
  },
  {
   "cell_type": "code",
   "execution_count": 21,
   "id": "52f913b1-16b0-454b-9e54-010de07b402e",
   "metadata": {},
   "outputs": [],
   "source": [
    "# Model Building"
   ]
  },
  {
   "cell_type": "code",
   "execution_count": 22,
   "id": "ada7c2a4-4110-4826-8251-39835266d84c",
   "metadata": {},
   "outputs": [],
   "source": [
    "from sklearn.model_selection import train_test_split\n",
    "x_train, x_test, y_train, y_test =  train_test_split(x,y, test_size = 0.2, random_state=100)"
   ]
  },
  {
   "cell_type": "code",
   "execution_count": 23,
   "id": "ce23d51f-be12-49ba-b5f1-6762094f34e1",
   "metadata": {},
   "outputs": [],
   "source": [
    "from sklearn.preprocessing import StandardScaler \n",
    "scaler = StandardScaler()\n",
    "x_train = scaler.fit_transform(x_train)\n",
    "x_test = scaler.transform(x_test)"
   ]
  },
  {
   "cell_type": "code",
   "execution_count": 24,
   "id": "48e834ed-d33e-4780-801c-40e8f91f4620",
   "metadata": {},
   "outputs": [
    {
     "name": "stdout",
     "output_type": "stream",
     "text": [
      "(16512, 8)\n"
     ]
    }
   ],
   "source": [
    "print(x_train.shape)"
   ]
  },
  {
   "cell_type": "code",
   "execution_count": 25,
   "id": "08388e65-9fc6-4109-bc6f-852dc13f9712",
   "metadata": {},
   "outputs": [
    {
     "name": "stdout",
     "output_type": "stream",
     "text": [
      "(16512,)\n"
     ]
    }
   ],
   "source": [
    "print(y_train.shape)"
   ]
  },
  {
   "cell_type": "code",
   "execution_count": 26,
   "id": "18530257-eab6-4fdf-a915-7aff3f97ff37",
   "metadata": {},
   "outputs": [],
   "source": [
    "# Creating Artificial Neural Network"
   ]
  },
  {
   "cell_type": "code",
   "execution_count": 27,
   "id": "8745707b-7a6a-4aca-a70d-b5af2b0aab5e",
   "metadata": {},
   "outputs": [],
   "source": [
    "# importing libraries"
   ]
  },
  {
   "cell_type": "code",
   "execution_count": 28,
   "id": "1525417d-4d79-4b59-836b-2387eddbe1c6",
   "metadata": {},
   "outputs": [],
   "source": [
    "import keras \n",
    "from keras.models import Sequential\n",
    "from keras.layers import Dense"
   ]
  },
  {
   "cell_type": "code",
   "execution_count": 29,
   "id": "7d8779a0-7402-4e2e-b077-1a08bbd35cc3",
   "metadata": {},
   "outputs": [],
   "source": [
    "# Initializing the ANN"
   ]
  },
  {
   "cell_type": "code",
   "execution_count": 30,
   "id": "32e299a9-6ceb-4e20-a0f0-fd9f6dfebc8d",
   "metadata": {},
   "outputs": [],
   "source": [
    "ann_re = Sequential()"
   ]
  },
  {
   "cell_type": "code",
   "execution_count": 31,
   "id": "e5f22c6c-5bbb-4b44-b824-0994eb05b57d",
   "metadata": {},
   "outputs": [],
   "source": [
    "# Adding the input layer and first hidden layer"
   ]
  },
  {
   "cell_type": "code",
   "execution_count": 32,
   "id": "ef6755ed-eb4d-42e0-9aa0-418f14440595",
   "metadata": {},
   "outputs": [],
   "source": [
    "ann_re.add(Dense(activation = 'relu', input_dim = 8, units = 512, kernel_initializer = 'uniform'))"
   ]
  },
  {
   "cell_type": "code",
   "execution_count": 33,
   "id": "1d3f4929-a0e9-4689-b986-64d1d61bc900",
   "metadata": {},
   "outputs": [],
   "source": [
    "# 2nd hidden layer"
   ]
  },
  {
   "cell_type": "code",
   "execution_count": 34,
   "id": "20c1e1fa-f520-4f87-a66d-1e481d7b1137",
   "metadata": {},
   "outputs": [],
   "source": [
    "ann_re.add(Dense(activation = 'relu', units =  512,kernel_initializer = 'uniform'))"
   ]
  },
  {
   "cell_type": "code",
   "execution_count": 35,
   "id": "dcdb5f73-30d1-4885-90b2-0c167494e6a4",
   "metadata": {},
   "outputs": [],
   "source": [
    "# 3rd hidden layer"
   ]
  },
  {
   "cell_type": "code",
   "execution_count": 36,
   "id": "8197fe0d-3821-43e5-b7ce-5c4e5013fcef",
   "metadata": {},
   "outputs": [],
   "source": [
    "ann_re.add(Dense(activation = 'relu', units = 256, kernel_initializer = 'uniform'))"
   ]
  },
  {
   "cell_type": "code",
   "execution_count": 37,
   "id": "7a6717c9-ed4b-4ee2-a43a-627b8a428058",
   "metadata": {},
   "outputs": [],
   "source": [
    "# 4th hidden layer"
   ]
  },
  {
   "cell_type": "code",
   "execution_count": 38,
   "id": "4e3d0d65-c3cb-440c-9db4-2a5454ac55c4",
   "metadata": {},
   "outputs": [],
   "source": [
    "ann_re.add(Dense(activation = 'relu', units = 128, kernel_initializer = 'uniform'))"
   ]
  },
  {
   "cell_type": "code",
   "execution_count": 39,
   "id": "f5c34687-fe0f-45db-a81a-1bcb177569fa",
   "metadata": {},
   "outputs": [],
   "source": [
    "# 5th hidden layer"
   ]
  },
  {
   "cell_type": "code",
   "execution_count": 40,
   "id": "ac3c6314-d386-401b-bd12-666269a8e6f4",
   "metadata": {},
   "outputs": [],
   "source": [
    "ann_re.add(Dense(activation = 'relu', units = 64, kernel_initializer = 'uniform'))"
   ]
  },
  {
   "cell_type": "code",
   "execution_count": 41,
   "id": "a3ee3dea-aab6-46f6-8e53-e775d247ec49",
   "metadata": {},
   "outputs": [],
   "source": [
    "# 6th hidden layer"
   ]
  },
  {
   "cell_type": "code",
   "execution_count": 42,
   "id": "ca75f4a2-05fc-4708-be71-a39c2fa5c64d",
   "metadata": {},
   "outputs": [],
   "source": [
    "ann_re.add(Dense(activation = 'relu', units = 32, kernel_initializer = 'uniform'))"
   ]
  },
  {
   "cell_type": "code",
   "execution_count": 43,
   "id": "81f53a84-dcc1-4936-b440-62443b8597fc",
   "metadata": {},
   "outputs": [],
   "source": [
    "# Output layer"
   ]
  },
  {
   "cell_type": "code",
   "execution_count": 44,
   "id": "b9102496-7d90-4fdc-85d4-956eabbcbd11",
   "metadata": {},
   "outputs": [],
   "source": [
    "ann_re.add(Dense(activation = 'relu', units = 1, kernel_initializer = 'uniform'))"
   ]
  },
  {
   "cell_type": "code",
   "execution_count": 45,
   "id": "15794730-7bf1-486e-b48b-83f0ca781bc7",
   "metadata": {},
   "outputs": [],
   "source": [
    "# Compliling the ANN"
   ]
  },
  {
   "cell_type": "code",
   "execution_count": 46,
   "id": "9ae09f07-aa00-4079-88e8-6729ebb31a8a",
   "metadata": {},
   "outputs": [],
   "source": [
    "ann_re.compile(optimizer = 'adam', loss = 'mse', metrics = ['mae'])"
   ]
  },
  {
   "cell_type": "code",
   "execution_count": 47,
   "id": "2bc58d7e-41fa-4326-815f-90c93845d172",
   "metadata": {},
   "outputs": [],
   "source": [
    "# Model Summary"
   ]
  },
  {
   "cell_type": "code",
   "execution_count": 48,
   "id": "90743f38-29b8-48fe-b279-b280c9eb2b29",
   "metadata": {},
   "outputs": [
    {
     "name": "stdout",
     "output_type": "stream",
     "text": [
      "Model: \"sequential\"\n",
      "_________________________________________________________________\n",
      " Layer (type)                Output Shape              Param #   \n",
      "=================================================================\n",
      " dense (Dense)               (None, 512)               4608      \n",
      "                                                                 \n",
      " dense_1 (Dense)             (None, 512)               262656    \n",
      "                                                                 \n",
      " dense_2 (Dense)             (None, 256)               131328    \n",
      "                                                                 \n",
      " dense_3 (Dense)             (None, 128)               32896     \n",
      "                                                                 \n",
      " dense_4 (Dense)             (None, 64)                8256      \n",
      "                                                                 \n",
      " dense_5 (Dense)             (None, 32)                2080      \n",
      "                                                                 \n",
      " dense_6 (Dense)             (None, 1)                 33        \n",
      "                                                                 \n",
      "=================================================================\n",
      "Total params: 441,857\n",
      "Trainable params: 441,857\n",
      "Non-trainable params: 0\n",
      "_________________________________________________________________\n"
     ]
    }
   ],
   "source": [
    "ann_re.summary()"
   ]
  },
  {
   "cell_type": "code",
   "execution_count": 49,
   "id": "ea740ce0-b370-493c-a292-3d61e8a59558",
   "metadata": {},
   "outputs": [],
   "source": [
    "# Model Traning"
   ]
  },
  {
   "cell_type": "code",
   "execution_count": 50,
   "id": "81f408e6-7af0-407f-8beb-2d56eedff4dc",
   "metadata": {
    "scrolled": true,
    "tags": []
   },
   "outputs": [
    {
     "name": "stdout",
     "output_type": "stream",
     "text": [
      "Epoch 1/100\n",
      "346/346 [==============================] - 4s 8ms/step - loss: 15252749312.0000 - mae: 83863.6875 - val_loss: 5420963328.0000 - val_mae: 52140.6328\n",
      "Epoch 2/100\n",
      "346/346 [==============================] - 3s 7ms/step - loss: 5305491968.0000 - mae: 52346.1406 - val_loss: 5198426112.0000 - val_mae: 50767.6406\n",
      "Epoch 3/100\n",
      "346/346 [==============================] - 3s 7ms/step - loss: 5111500288.0000 - mae: 51389.6758 - val_loss: 5305240064.0000 - val_mae: 54689.9961\n",
      "Epoch 4/100\n",
      "346/346 [==============================] - 3s 7ms/step - loss: 5095149568.0000 - mae: 51205.9336 - val_loss: 5038242304.0000 - val_mae: 52585.3438\n",
      "Epoch 5/100\n",
      "346/346 [==============================] - 3s 7ms/step - loss: 5051445248.0000 - mae: 50829.2148 - val_loss: 5036487680.0000 - val_mae: 51814.6406\n",
      "Epoch 6/100\n",
      "346/346 [==============================] - 3s 8ms/step - loss: 5086613504.0000 - mae: 50931.7539 - val_loss: 5061779456.0000 - val_mae: 48899.6484\n",
      "Epoch 7/100\n",
      "346/346 [==============================] - 3s 8ms/step - loss: 5020322816.0000 - mae: 50556.9688 - val_loss: 5012973056.0000 - val_mae: 49374.7852\n",
      "Epoch 8/100\n",
      "346/346 [==============================] - 3s 8ms/step - loss: 5041916416.0000 - mae: 50536.9297 - val_loss: 4862865920.0000 - val_mae: 50831.8750\n",
      "Epoch 9/100\n",
      "346/346 [==============================] - 3s 8ms/step - loss: 4969694208.0000 - mae: 50225.2695 - val_loss: 5166535680.0000 - val_mae: 49068.3672\n",
      "Epoch 10/100\n",
      "346/346 [==============================] - 3s 8ms/step - loss: 4965691904.0000 - mae: 50061.7695 - val_loss: 4873276928.0000 - val_mae: 48739.8438\n",
      "Epoch 11/100\n",
      "346/346 [==============================] - 3s 8ms/step - loss: 4991364096.0000 - mae: 50387.9141 - val_loss: 4831763968.0000 - val_mae: 49867.3984\n",
      "Epoch 12/100\n",
      "346/346 [==============================] - 3s 9ms/step - loss: 4952600576.0000 - mae: 50250.6094 - val_loss: 4840134144.0000 - val_mae: 49238.3555\n",
      "Epoch 13/100\n",
      "346/346 [==============================] - 3s 8ms/step - loss: 4938449408.0000 - mae: 49889.8203 - val_loss: 4858995712.0000 - val_mae: 48093.9023\n",
      "Epoch 14/100\n",
      "346/346 [==============================] - 3s 8ms/step - loss: 4927566848.0000 - mae: 49931.3633 - val_loss: 4790905856.0000 - val_mae: 49296.6602\n",
      "Epoch 15/100\n",
      "346/346 [==============================] - 3s 8ms/step - loss: 4978334208.0000 - mae: 50046.8711 - val_loss: 4909784064.0000 - val_mae: 51687.9805\n",
      "Epoch 16/100\n",
      "346/346 [==============================] - 3s 8ms/step - loss: 4937310208.0000 - mae: 49994.8828 - val_loss: 4804836352.0000 - val_mae: 49066.9805\n",
      "Epoch 17/100\n",
      "346/346 [==============================] - 3s 8ms/step - loss: 4945631744.0000 - mae: 50033.3359 - val_loss: 4804915200.0000 - val_mae: 48382.6758\n",
      "Epoch 18/100\n",
      "346/346 [==============================] - 3s 8ms/step - loss: 4894261248.0000 - mae: 49735.6641 - val_loss: 4891552768.0000 - val_mae: 51392.3516\n",
      "Epoch 19/100\n",
      "346/346 [==============================] - 3s 8ms/step - loss: 4966243840.0000 - mae: 50041.8281 - val_loss: 4798226432.0000 - val_mae: 49210.4219\n",
      "Epoch 20/100\n",
      "346/346 [==============================] - 3s 9ms/step - loss: 4851357696.0000 - mae: 49388.4766 - val_loss: 4745045504.0000 - val_mae: 49524.4492\n",
      "Epoch 21/100\n",
      "346/346 [==============================] - 3s 9ms/step - loss: 4848479232.0000 - mae: 49338.2422 - val_loss: 4802774528.0000 - val_mae: 49073.2344\n",
      "Epoch 22/100\n",
      "346/346 [==============================] - 3s 9ms/step - loss: 4830627328.0000 - mae: 49282.4414 - val_loss: 4762377216.0000 - val_mae: 49038.2422\n",
      "Epoch 23/100\n",
      "346/346 [==============================] - 3s 9ms/step - loss: 4843459584.0000 - mae: 49429.0859 - val_loss: 4823257088.0000 - val_mae: 47995.9023\n",
      "Epoch 24/100\n",
      "346/346 [==============================] - 3s 9ms/step - loss: 4831585280.0000 - mae: 49335.1875 - val_loss: 4816020480.0000 - val_mae: 47984.6914\n",
      "Epoch 25/100\n",
      "346/346 [==============================] - 3s 9ms/step - loss: 4819084288.0000 - mae: 49322.5664 - val_loss: 4762825728.0000 - val_mae: 48046.8945\n",
      "Epoch 26/100\n",
      "346/346 [==============================] - 3s 9ms/step - loss: 4785043456.0000 - mae: 49021.7266 - val_loss: 4625661952.0000 - val_mae: 48176.9648\n",
      "Epoch 27/100\n",
      "346/346 [==============================] - 3s 10ms/step - loss: 4753828864.0000 - mae: 48874.3477 - val_loss: 4745194496.0000 - val_mae: 47736.5820\n",
      "Epoch 28/100\n",
      "346/346 [==============================] - 3s 9ms/step - loss: 4737715200.0000 - mae: 48799.7266 - val_loss: 4639461888.0000 - val_mae: 47780.8711\n",
      "Epoch 29/100\n",
      "346/346 [==============================] - 3s 10ms/step - loss: 4741281792.0000 - mae: 48796.7383 - val_loss: 4593265152.0000 - val_mae: 48241.3867\n",
      "Epoch 30/100\n",
      "346/346 [==============================] - 4s 11ms/step - loss: 4732454912.0000 - mae: 48780.2422 - val_loss: 4630500352.0000 - val_mae: 47279.2617\n",
      "Epoch 31/100\n",
      "346/346 [==============================] - 4s 11ms/step - loss: 4723579904.0000 - mae: 48661.8750 - val_loss: 4550682624.0000 - val_mae: 48142.2148\n",
      "Epoch 32/100\n",
      "346/346 [==============================] - 5s 14ms/step - loss: 4627231744.0000 - mae: 48239.8281 - val_loss: 4560017408.0000 - val_mae: 49137.1523\n",
      "Epoch 33/100\n",
      "346/346 [==============================] - 5s 13ms/step - loss: 4637664768.0000 - mae: 48151.7578 - val_loss: 4429008896.0000 - val_mae: 46852.9531\n",
      "Epoch 34/100\n",
      "346/346 [==============================] - 5s 14ms/step - loss: 4572886528.0000 - mae: 47701.4609 - val_loss: 4446752768.0000 - val_mae: 47747.7148\n",
      "Epoch 35/100\n",
      "346/346 [==============================] - 5s 13ms/step - loss: 4506978304.0000 - mae: 47419.9570 - val_loss: 4365016064.0000 - val_mae: 46804.0156\n",
      "Epoch 36/100\n",
      "346/346 [==============================] - 4s 12ms/step - loss: 4489989632.0000 - mae: 47365.3203 - val_loss: 4348249600.0000 - val_mae: 47232.0430\n",
      "Epoch 37/100\n",
      "346/346 [==============================] - 4s 12ms/step - loss: 4411533312.0000 - mae: 46899.2539 - val_loss: 4307587584.0000 - val_mae: 46151.8438\n",
      "Epoch 38/100\n",
      "346/346 [==============================] - 4s 11ms/step - loss: 4406992896.0000 - mae: 46786.4648 - val_loss: 4372233728.0000 - val_mae: 44996.6484\n",
      "Epoch 39/100\n",
      "346/346 [==============================] - 4s 10ms/step - loss: 4347480576.0000 - mae: 46420.8789 - val_loss: 4234936832.0000 - val_mae: 44809.3242\n",
      "Epoch 40/100\n",
      "346/346 [==============================] - 4s 10ms/step - loss: 4282062848.0000 - mae: 46050.1797 - val_loss: 4225538560.0000 - val_mae: 46736.5234\n",
      "Epoch 41/100\n",
      "346/346 [==============================] - 3s 10ms/step - loss: 4293085184.0000 - mae: 45949.8086 - val_loss: 4235124736.0000 - val_mae: 47929.3984\n",
      "Epoch 42/100\n",
      "346/346 [==============================] - 3s 10ms/step - loss: 4231140864.0000 - mae: 45732.2266 - val_loss: 4153139968.0000 - val_mae: 45039.0469\n",
      "Epoch 43/100\n",
      "346/346 [==============================] - 3s 10ms/step - loss: 4204095488.0000 - mae: 45624.2109 - val_loss: 4198094080.0000 - val_mae: 46882.9492\n",
      "Epoch 44/100\n",
      "346/346 [==============================] - 3s 9ms/step - loss: 4188511232.0000 - mae: 45524.7344 - val_loss: 4358011904.0000 - val_mae: 48668.4102\n",
      "Epoch 45/100\n",
      "346/346 [==============================] - 4s 10ms/step - loss: 4158400512.0000 - mae: 45275.7461 - val_loss: 4183859456.0000 - val_mae: 45794.9805\n",
      "Epoch 46/100\n",
      "346/346 [==============================] - 3s 8ms/step - loss: 4087084800.0000 - mae: 44795.6758 - val_loss: 4146284544.0000 - val_mae: 44760.6367\n",
      "Epoch 47/100\n",
      "346/346 [==============================] - 4s 10ms/step - loss: 4093670912.0000 - mae: 44798.8281 - val_loss: 4015550464.0000 - val_mae: 43919.0781\n",
      "Epoch 48/100\n",
      "346/346 [==============================] - 3s 9ms/step - loss: 4122356992.0000 - mae: 44934.7500 - val_loss: 4094554880.0000 - val_mae: 43703.5859\n",
      "Epoch 49/100\n",
      "346/346 [==============================] - 3s 9ms/step - loss: 4051075584.0000 - mae: 44565.8164 - val_loss: 4056530432.0000 - val_mae: 46267.4609\n",
      "Epoch 50/100\n",
      "346/346 [==============================] - 3s 8ms/step - loss: 3998009600.0000 - mae: 44370.4961 - val_loss: 3970814720.0000 - val_mae: 43430.0078\n",
      "Epoch 51/100\n",
      "346/346 [==============================] - 3s 9ms/step - loss: 3977460736.0000 - mae: 43923.1992 - val_loss: 4127162880.0000 - val_mae: 47091.8320\n",
      "Epoch 52/100\n",
      "346/346 [==============================] - 3s 9ms/step - loss: 4001520384.0000 - mae: 44277.4727 - val_loss: 3930621184.0000 - val_mae: 43780.2383\n",
      "Epoch 53/100\n",
      "346/346 [==============================] - 3s 8ms/step - loss: 3949887488.0000 - mae: 44010.0625 - val_loss: 3975967744.0000 - val_mae: 44549.8164\n",
      "Epoch 54/100\n",
      "346/346 [==============================] - 3s 8ms/step - loss: 3991811584.0000 - mae: 44235.3281 - val_loss: 3924096256.0000 - val_mae: 43475.0273\n",
      "Epoch 55/100\n",
      "346/346 [==============================] - 3s 8ms/step - loss: 3928835328.0000 - mae: 43812.8438 - val_loss: 3935398656.0000 - val_mae: 44866.8633\n",
      "Epoch 56/100\n",
      "346/346 [==============================] - 3s 8ms/step - loss: 3921657088.0000 - mae: 43868.5781 - val_loss: 3961042176.0000 - val_mae: 44593.3867\n",
      "Epoch 57/100\n",
      "346/346 [==============================] - 3s 8ms/step - loss: 3920923136.0000 - mae: 43847.2070 - val_loss: 3990274048.0000 - val_mae: 44723.9297\n",
      "Epoch 58/100\n",
      "346/346 [==============================] - 3s 8ms/step - loss: 3888778752.0000 - mae: 43591.6523 - val_loss: 3956559616.0000 - val_mae: 43785.6719\n",
      "Epoch 59/100\n",
      "346/346 [==============================] - 3s 8ms/step - loss: 3869775616.0000 - mae: 43341.0703 - val_loss: 3885935360.0000 - val_mae: 42945.4375\n",
      "Epoch 60/100\n",
      "346/346 [==============================] - 3s 8ms/step - loss: 3875416320.0000 - mae: 43464.7461 - val_loss: 3897732608.0000 - val_mae: 43961.1836\n",
      "Epoch 61/100\n",
      "346/346 [==============================] - 3s 8ms/step - loss: 3834752768.0000 - mae: 43343.1758 - val_loss: 3890482944.0000 - val_mae: 43242.0039\n",
      "Epoch 62/100\n",
      "346/346 [==============================] - 3s 8ms/step - loss: 3896655104.0000 - mae: 43492.8672 - val_loss: 3886197760.0000 - val_mae: 43082.9023\n",
      "Epoch 63/100\n",
      "346/346 [==============================] - 3s 9ms/step - loss: 3813178880.0000 - mae: 43071.6875 - val_loss: 3836639232.0000 - val_mae: 43707.3867\n",
      "Epoch 64/100\n",
      "346/346 [==============================] - 3s 8ms/step - loss: 3810066944.0000 - mae: 43116.4922 - val_loss: 3915411712.0000 - val_mae: 42505.3359\n",
      "Epoch 65/100\n",
      "346/346 [==============================] - 3s 8ms/step - loss: 3791707392.0000 - mae: 42883.4375 - val_loss: 3970825984.0000 - val_mae: 45218.1211\n",
      "Epoch 66/100\n",
      "346/346 [==============================] - 3s 8ms/step - loss: 3790244608.0000 - mae: 42989.6836 - val_loss: 3923987200.0000 - val_mae: 44597.8672\n",
      "Epoch 67/100\n",
      "346/346 [==============================] - 3s 8ms/step - loss: 3842268672.0000 - mae: 43129.6875 - val_loss: 4087562752.0000 - val_mae: 46153.1680\n",
      "Epoch 68/100\n",
      "346/346 [==============================] - 3s 10ms/step - loss: 3786724864.0000 - mae: 42958.3672 - val_loss: 4012165888.0000 - val_mae: 42639.8008\n",
      "Epoch 69/100\n",
      "346/346 [==============================] - 3s 8ms/step - loss: 3796619776.0000 - mae: 42925.0195 - val_loss: 3792446720.0000 - val_mae: 42196.9297\n",
      "Epoch 70/100\n",
      "346/346 [==============================] - 3s 8ms/step - loss: 3753577216.0000 - mae: 42721.0742 - val_loss: 3877564416.0000 - val_mae: 41873.0469\n",
      "Epoch 71/100\n",
      "346/346 [==============================] - 3s 8ms/step - loss: 3756631552.0000 - mae: 42574.4180 - val_loss: 3840404480.0000 - val_mae: 43350.9414\n",
      "Epoch 72/100\n",
      "346/346 [==============================] - 3s 8ms/step - loss: 3761641216.0000 - mae: 42824.5312 - val_loss: 3808446976.0000 - val_mae: 43243.2344\n",
      "Epoch 73/100\n",
      "346/346 [==============================] - 3s 9ms/step - loss: 3754535168.0000 - mae: 42662.4297 - val_loss: 3904961792.0000 - val_mae: 42974.3750\n",
      "Epoch 74/100\n",
      "346/346 [==============================] - 3s 9ms/step - loss: 3701561344.0000 - mae: 42431.3125 - val_loss: 3893050368.0000 - val_mae: 42251.8516\n",
      "Epoch 75/100\n",
      "346/346 [==============================] - 3s 9ms/step - loss: 3682628864.0000 - mae: 42210.7031 - val_loss: 3859398912.0000 - val_mae: 42161.1758\n",
      "Epoch 76/100\n",
      "346/346 [==============================] - 4s 12ms/step - loss: 3731245056.0000 - mae: 42558.9805 - val_loss: 3770838528.0000 - val_mae: 43259.2266\n",
      "Epoch 77/100\n",
      "346/346 [==============================] - 5s 14ms/step - loss: 3723501312.0000 - mae: 42535.8125 - val_loss: 3711161856.0000 - val_mae: 42028.2500\n",
      "Epoch 78/100\n",
      "346/346 [==============================] - 4s 11ms/step - loss: 3671844608.0000 - mae: 42172.3711 - val_loss: 3750551296.0000 - val_mae: 43833.5391\n",
      "Epoch 79/100\n",
      "346/346 [==============================] - 4s 11ms/step - loss: 3667746816.0000 - mae: 42111.4258 - val_loss: 3953249024.0000 - val_mae: 45408.2188\n",
      "Epoch 80/100\n",
      "346/346 [==============================] - 4s 10ms/step - loss: 3673836544.0000 - mae: 42224.7461 - val_loss: 3906843392.0000 - val_mae: 44709.5000\n",
      "Epoch 81/100\n",
      "346/346 [==============================] - 4s 11ms/step - loss: 3616970496.0000 - mae: 41957.6133 - val_loss: 3983280640.0000 - val_mae: 44880.7266\n",
      "Epoch 82/100\n",
      "346/346 [==============================] - 4s 11ms/step - loss: 3703545856.0000 - mae: 42412.6250 - val_loss: 3775743488.0000 - val_mae: 42405.1484\n",
      "Epoch 83/100\n",
      "346/346 [==============================] - 4s 11ms/step - loss: 3636501504.0000 - mae: 41883.8164 - val_loss: 3808745216.0000 - val_mae: 41375.1484\n",
      "Epoch 84/100\n",
      "346/346 [==============================] - 4s 12ms/step - loss: 3629747456.0000 - mae: 41840.7031 - val_loss: 3800007936.0000 - val_mae: 41594.0938\n",
      "Epoch 85/100\n",
      "346/346 [==============================] - 5s 13ms/step - loss: 3597604352.0000 - mae: 41759.8398 - val_loss: 3767391744.0000 - val_mae: 41409.5352\n",
      "Epoch 86/100\n",
      "346/346 [==============================] - 4s 12ms/step - loss: 3582827264.0000 - mae: 41499.4102 - val_loss: 3695564288.0000 - val_mae: 41941.5273\n",
      "Epoch 87/100\n",
      "346/346 [==============================] - 4s 11ms/step - loss: 3606035968.0000 - mae: 41557.0273 - val_loss: 3911174912.0000 - val_mae: 45384.1914\n",
      "Epoch 88/100\n",
      "346/346 [==============================] - 4s 11ms/step - loss: 3630540288.0000 - mae: 41958.0547 - val_loss: 3658051072.0000 - val_mae: 42792.4570\n",
      "Epoch 89/100\n",
      "346/346 [==============================] - 4s 11ms/step - loss: 3593621760.0000 - mae: 41635.8359 - val_loss: 3955460096.0000 - val_mae: 45056.6719\n",
      "Epoch 90/100\n",
      "346/346 [==============================] - 3s 10ms/step - loss: 3532994560.0000 - mae: 41173.8047 - val_loss: 3893215744.0000 - val_mae: 45228.5430\n",
      "Epoch 91/100\n",
      "346/346 [==============================] - 3s 10ms/step - loss: 3558841856.0000 - mae: 41308.3594 - val_loss: 3676177408.0000 - val_mae: 41912.2969\n",
      "Epoch 92/100\n",
      "346/346 [==============================] - 3s 9ms/step - loss: 3553474304.0000 - mae: 41242.6445 - val_loss: 3715497472.0000 - val_mae: 43090.4062\n",
      "Epoch 93/100\n",
      "346/346 [==============================] - 3s 9ms/step - loss: 3539230976.0000 - mae: 41306.3945 - val_loss: 3618027008.0000 - val_mae: 41482.0547\n",
      "Epoch 94/100\n",
      "346/346 [==============================] - 3s 9ms/step - loss: 3515423232.0000 - mae: 41093.9688 - val_loss: 3766605056.0000 - val_mae: 43844.0156\n",
      "Epoch 95/100\n",
      "346/346 [==============================] - 3s 9ms/step - loss: 3517101056.0000 - mae: 41243.4844 - val_loss: 3745726208.0000 - val_mae: 41951.8984\n",
      "Epoch 96/100\n",
      "346/346 [==============================] - 3s 9ms/step - loss: 3511837696.0000 - mae: 41066.8711 - val_loss: 3702247168.0000 - val_mae: 43117.0312\n",
      "Epoch 97/100\n",
      "346/346 [==============================] - 3s 9ms/step - loss: 3495981056.0000 - mae: 41177.1562 - val_loss: 3615759360.0000 - val_mae: 41496.5547\n",
      "Epoch 98/100\n",
      "346/346 [==============================] - 3s 9ms/step - loss: 3510151680.0000 - mae: 41085.9727 - val_loss: 3600751360.0000 - val_mae: 41615.9062\n",
      "Epoch 99/100\n",
      "346/346 [==============================] - 3s 8ms/step - loss: 3481392896.0000 - mae: 40908.6328 - val_loss: 3579582208.0000 - val_mae: 41601.0586\n",
      "Epoch 100/100\n",
      "346/346 [==============================] - 3s 9ms/step - loss: 3509627392.0000 - mae: 41031.7656 - val_loss: 3603518720.0000 - val_mae: 43144.9102\n"
     ]
    },
    {
     "data": {
      "text/plain": [
       "<keras.callbacks.History at 0x1aeed7f2910>"
      ]
     },
     "execution_count": 50,
     "metadata": {},
     "output_type": "execute_result"
    }
   ],
   "source": [
    "ann_re.fit(x_train,y_train,validation_split=0.33, batch_size = 32, epochs = 100)"
   ]
  },
  {
   "cell_type": "code",
   "execution_count": 51,
   "id": "b094ff88-c443-4e2b-9c51-7984bd2fee05",
   "metadata": {},
   "outputs": [
    {
     "name": "stdout",
     "output_type": "stream",
     "text": [
      "129/129 [==============================] - 0s 2ms/step\n"
     ]
    }
   ],
   "source": [
    "y_pred = ann_re.predict(x_test)"
   ]
  },
  {
   "cell_type": "code",
   "execution_count": 52,
   "id": "8f8d9f99-6786-4ee2-bb09-0c26aa5831e9",
   "metadata": {},
   "outputs": [
    {
     "name": "stdout",
     "output_type": "stream",
     "text": [
      "129/129 [==============================] - 0s 2ms/step\n"
     ]
    }
   ],
   "source": [
    "from sklearn import metrics \n",
    "y_pred = ann_re.predict(x_test)\n",
    "MAE = metrics.mean_absolute_error(y_test,y_pred)\n",
    "MSE = metrics.mean_squared_error(y_test,y_pred)\n",
    "RMSE = np.sqrt(MSE)\n",
    "R_squared_value = metrics.r2_score(y_test,y_pred)"
   ]
  },
  {
   "cell_type": "code",
   "execution_count": 53,
   "id": "8bd96270-c061-400f-90ed-19eb9f1d2038",
   "metadata": {},
   "outputs": [],
   "source": [
    "P = int(len(df.columns)-1)\n",
    "N = int(len(df))\n",
    "Adj_R_squared_Value =1 - ((1-R_squared_value)*(N - 1)/(N-P-1))"
   ]
  },
  {
   "cell_type": "code",
   "execution_count": 54,
   "id": "c77ad22a-1b04-48da-97e6-391e9576e38e",
   "metadata": {},
   "outputs": [
    {
     "data": {
      "text/plain": [
       "42140.83852747244"
      ]
     },
     "execution_count": 54,
     "metadata": {},
     "output_type": "execute_result"
    }
   ],
   "source": [
    "MAE"
   ]
  },
  {
   "cell_type": "code",
   "execution_count": 55,
   "id": "0710f644-fea0-47a9-a35e-ce3f0491e66c",
   "metadata": {},
   "outputs": [
    {
     "data": {
      "text/plain": [
       "3371598368.9652348"
      ]
     },
     "execution_count": 55,
     "metadata": {},
     "output_type": "execute_result"
    }
   ],
   "source": [
    "MSE"
   ]
  },
  {
   "cell_type": "code",
   "execution_count": 56,
   "id": "b9ef58fb-52cc-4d1a-89a4-70fc9cc46d13",
   "metadata": {},
   "outputs": [
    {
     "data": {
      "text/plain": [
       "58065.466233943516"
      ]
     },
     "execution_count": 56,
     "metadata": {},
     "output_type": "execute_result"
    }
   ],
   "source": [
    "RMSE"
   ]
  },
  {
   "cell_type": "code",
   "execution_count": 57,
   "id": "f1af243a-33dc-4565-934c-01ca80160b46",
   "metadata": {},
   "outputs": [
    {
     "data": {
      "text/plain": [
       "0.7497695387511782"
      ]
     },
     "execution_count": 57,
     "metadata": {},
     "output_type": "execute_result"
    }
   ],
   "source": [
    "R_squared_value"
   ]
  },
  {
   "cell_type": "code",
   "execution_count": 58,
   "id": "79055aa5-74b9-42b3-90b4-cab1a40f3ede",
   "metadata": {},
   "outputs": [
    {
     "data": {
      "text/plain": [
       "0.7496725078903382"
      ]
     },
     "execution_count": 58,
     "metadata": {},
     "output_type": "execute_result"
    }
   ],
   "source": [
    "Adj_R_squared_Value"
   ]
  },
  {
   "cell_type": "code",
   "execution_count": null,
   "id": "b240bde0-b78c-4c60-b585-f3db445dea10",
   "metadata": {},
   "outputs": [],
   "source": []
  },
  {
   "cell_type": "code",
   "execution_count": null,
   "id": "30f733fa-4f67-48bb-baa1-3bf44daa785a",
   "metadata": {},
   "outputs": [],
   "source": []
  },
  {
   "cell_type": "code",
   "execution_count": null,
   "id": "e6a5a3a9-d2b8-4a46-8647-9648909f8f63",
   "metadata": {},
   "outputs": [],
   "source": []
  }
 ],
 "metadata": {
  "kernelspec": {
   "display_name": "Python 3 (ipykernel)",
   "language": "python",
   "name": "python3"
  },
  "language_info": {
   "codemirror_mode": {
    "name": "ipython",
    "version": 3
   },
   "file_extension": ".py",
   "mimetype": "text/x-python",
   "name": "python",
   "nbconvert_exporter": "python",
   "pygments_lexer": "ipython3",
   "version": "3.9.12"
  }
 },
 "nbformat": 4,
 "nbformat_minor": 5
}
